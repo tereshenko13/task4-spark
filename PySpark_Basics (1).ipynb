{
 "cells": [
  {
   "cell_type": "markdown",
   "id": "trained-moses",
   "metadata": {},
   "source": [
    "import libraries(I provide all libs that I need when make this tasks, if you need some external import them here)"
   ]
  },
  {
   "cell_type": "code",
   "execution_count": null,
   "id": "induced-african",
   "metadata": {},
   "outputs": [],
   "source": [
    "import findspark\n",
    "findspark.init()\n",
    "import pyspark\n",
    "from pyspark.sql import SparkSession\n",
    "from pyspark.sql.types import StructType, StructField, IntegerType, StringType\n",
    "from pyspark.sql.functions import col\n",
    "from pyspark.sql.functions import max, avg, min\n",
    "from pyspark.sql.window import Window\n",
    "from pyspark.sql.functions import row_number\n",
    "from pyspark.sql.functions import desc\n",
    "from pyspark.sql.functions import when"
   ]
  },
  {
   "cell_type": "markdown",
   "id": "permanent-photographer",
   "metadata": {},
   "source": [
    "create local SparkSession"
   ]
  },
  {
   "cell_type": "code",
   "execution_count": null,
   "id": "stock-partnership",
   "metadata": {},
   "outputs": [],
   "source": [
    "spark = SparkSession.builder.master(\"local[1]\") \\\n",
    "                    .appName('SparkByExamples.com') \\\n",
    "                    .getOrCreate()"
   ]
  },
  {
   "cell_type": "markdown",
   "id": "juvenile-blame",
   "metadata": {},
   "source": [
    "read csv with inferschema"
   ]
  },
  {
   "cell_type": "code",
   "execution_count": null,
   "id": "computational-liverpool",
   "metadata": {},
   "outputs": [],
   "source": [
    "%%time\n",
    "df = spark.read.options(header='True',inferSchema='True',delimiter=',') \\\n",
    ".csv(\"C:/Users/user/Downloads/ds_salaries.csv\")\n",
    "df.show()"
   ]
  },
  {
   "cell_type": "markdown",
   "id": "stopped-dominant",
   "metadata": {},
   "source": [
    "read csv one more time with the same code and you will see that it almostly don't take time, because info already in SparkSession and it will not read nothing\n",
    "from this file"
   ]
  },
  {
   "cell_type": "code",
   "execution_count": null,
   "id": "aging-neighborhood",
   "metadata": {},
   "outputs": [],
   "source": [
    "%%time\n",
    "df = spark.read.options(header='True',inferSchema='True',delimiter=',') \\\n",
    ".csv(\"C:/Users/user/Downloads/ds_salaries.csv\")"
   ]
  },
  {
   "cell_type": "markdown",
   "id": "mature-tomorrow",
   "metadata": {},
   "source": [
    "write schema of scv on screen"
   ]
  },
  {
   "cell_type": "code",
   "execution_count": null,
   "id": "least-communications",
   "metadata": {},
   "outputs": [],
   "source": [
    "df.printSchema()"
   ]
  },
  {
   "cell_type": "markdown",
   "id": "connected-brother",
   "metadata": {},
   "source": [
    "create schema of this scv"
   ]
  },
  {
   "cell_type": "code",
   "execution_count": null,
   "id": "progressive-dictionary",
   "metadata": {},
   "outputs": [],
   "source": [
    "schema = StructType([ \\\n",
    "    StructField(\"id\",IntegerType(),True), \\\n",
    "    StructField(\"work_year\",IntegerType(),True), \\\n",
    "    StructField(\"experience_level\",StringType(),True), \\\n",
    "    StructField(\"employment_type\", StringType(), True), \\\n",
    "    StructField(\"job_title\", StringType(), True), \\\n",
    "    StructField(\"salary\", IntegerType(), True), \\\n",
    "    StructField(\"salary_currency\", StringType(), True), \\\n",
    "    StructField(\"salary_in_usd\", IntegerType(), True), \\\n",
    "    StructField(\"employee_residence\", StringType(), True), \\\n",
    "    StructField(\"remote_ratio\", IntegerType(), True), \\\n",
    "    StructField(\"company_location\", StringType(), True), \\\n",
    "    StructField(\"company_size\", StringType(), True) \\\n",
    "  ])"
   ]
  },
  {
   "cell_type": "markdown",
   "id": "auburn-sauce",
   "metadata": {},
   "source": [
    "restart kernel without cleaning output and after restarting you need to initialize SparkSession, after initialize start execute only cells from cell with schema=\n",
    "=StructType.... \n",
    "To restart kernel click Kernel, Restart."
   ]
  },
  {
   "cell_type": "markdown",
   "id": "artistic-hospital",
   "metadata": {},
   "source": [
    "read ds_salaries with predefined schema and compare results from this cell and cell with inferSchema"
   ]
  },
  {
   "cell_type": "code",
   "execution_count": null,
   "id": "literary-plaintiff",
   "metadata": {},
   "outputs": [],
   "source": [
    "%%time\n",
    "df2 = spark.read \\\n",
    "  .option(\"header\", True) \\\n",
    "  .option(\"delimiter\", \",\") \\\n",
    "  .schema(schema) \\\n",
    "  .csv(\"C:/Users/user/Downloads/ds_salaries.csv\")\n",
    "df2.show()"
   ]
  },
  {
   "cell_type": "markdown",
   "id": "senior-joint",
   "metadata": {},
   "source": [
    "this happens because read operation is lazy(transformation), but if you use inferschema it start to be action that will create Spark Job, because Spark need to loop throw all file to check datatypes for all columns and this can harm to your code(if we compare to parquet, it will also go to check data types, but parquet provide meta information, so Spark will not go throw all file, he will just read meta information, but csv don't provide such meta information). Also header make Spark to create one more Spark Job to check first line\n",
    "to define name of columns and remember to skeep it when reading. Actual reading start when you will use first action. More about Spark Jobs you will see in next topic"
   ]
  },
  {
   "cell_type": "markdown",
   "id": "underlying-assurance",
   "metadata": {},
   "source": [
    "write schema of scv on screen one more time and compare with previous"
   ]
  },
  {
   "cell_type": "code",
   "execution_count": null,
   "id": "solid-infection",
   "metadata": {},
   "outputs": [],
   "source": [
    "df2.printSchema()"
   ]
  },
  {
   "cell_type": "markdown",
   "id": "close-water",
   "metadata": {},
   "source": [
    "now continue to work with one of the dataframes that you create"
   ]
  },
  {
   "cell_type": "markdown",
   "id": "piano-belgium",
   "metadata": {},
   "source": [
    "print data in dataframe using df.show"
   ]
  },
  {
   "cell_type": "code",
   "execution_count": null,
   "id": "legendary-alarm",
   "metadata": {},
   "outputs": [],
   "source": [
    "df2.show()"
   ]
  },
  {
   "cell_type": "markdown",
   "id": "tamil-medium",
   "metadata": {},
   "source": [
    "print data in dataframe using display(df.toPandas())"
   ]
  },
  {
   "cell_type": "code",
   "execution_count": null,
   "id": "connected-dryer",
   "metadata": {},
   "outputs": [],
   "source": [
    "df2.toPandas()"
   ]
  },
  {
   "cell_type": "markdown",
   "id": "opponent-gazette",
   "metadata": {},
   "source": [
    "create df_job_title that consists from all job_titles without duplicates"
   ]
  },
  {
   "cell_type": "code",
   "execution_count": null,
   "id": "friendly-cartridge",
   "metadata": {},
   "outputs": [],
   "source": [
    "df_job_title = df2.dropDuplicates([\"job_title\"])"
   ]
  },
  {
   "cell_type": "markdown",
   "id": "offshore-architecture",
   "metadata": {},
   "source": [
    "print all rows from df_job_titles without truncating jobs"
   ]
  },
  {
   "cell_type": "code",
   "execution_count": null,
   "id": "asian-edition",
   "metadata": {},
   "outputs": [],
   "source": [
    "df_job_title.show(truncate=False)"
   ]
  },
  {
   "cell_type": "markdown",
   "id": "interim-pharmacy",
   "metadata": {},
   "source": [
    "create  df_analytic that will consists from max, avg, min USD salaries for all job_titles using groupBy. name of fields is avg_salary, min_salary, max_salary"
   ]
  },
  {
   "cell_type": "code",
   "execution_count": null,
   "id": "naval-roller",
   "metadata": {},
   "outputs": [],
   "source": [
    "df_analytic=df2.groupBy(\"job_title\") \\\n",
    "    .agg(avg(\"salary_in_usd\").alias(\"avg_salary\"), \\\n",
    "         min(\"salary_in_usd\").alias(\"min_salary\"), \\\n",
    "         max(\"salary_in_usd\").alias(\"max_salary\"))"
   ]
  },
  {
   "cell_type": "markdown",
   "id": "french-pledge",
   "metadata": {},
   "source": [
    "print all rows from df_analytic without trancating jobs"
   ]
  },
  {
   "cell_type": "code",
   "execution_count": null,
   "id": "bacterial-depression",
   "metadata": {},
   "outputs": [],
   "source": [
    "df_analytic.show(truncate=False)"
   ]
  },
  {
   "cell_type": "markdown",
   "id": "hazardous-color",
   "metadata": {},
   "source": [
    "now you need to add in df_analytic column row_id, that will show order of all job_titles depending on avg salary. they should be descending"
   ]
  },
  {
   "cell_type": "code",
   "execution_count": null,
   "id": "nearby-treasurer",
   "metadata": {},
   "outputs": [],
   "source": [
    "windowSpec  = Window.orderBy(desc(\"avg_salary\"))\n",
    "df_analytic2=df_analytic.withColumn(\"row_id\",row_number().over(windowSpec))"
   ]
  },
  {
   "cell_type": "markdown",
   "id": "documented-catalog",
   "metadata": {},
   "source": [
    "print all data from df_analytic"
   ]
  },
  {
   "cell_type": "code",
   "execution_count": null,
   "id": "confirmed-monitoring",
   "metadata": {},
   "outputs": [],
   "source": [
    "df_analytic2.withColumn(\"row_id\",row_number().over(windowSpec)).show(truncate=False)"
   ]
  },
  {
   "cell_type": "markdown",
   "id": "satellite-quarter",
   "metadata": {},
   "source": [
    "it isn't beautifull, so we need to put now row_id on first place in df_analytic"
   ]
  },
  {
   "cell_type": "code",
   "execution_count": null,
   "id": "ranging-tribune",
   "metadata": {},
   "outputs": [],
   "source": [
    "df_analytic2.select(col(\"row_id\"), col(\"job_title\"),\n",
    "                   col(\"avg_salary\"),col(\"min_salary\"), col(\"max_salary\"))"
   ]
  },
  {
   "cell_type": "markdown",
   "id": "reliable-amsterdam",
   "metadata": {},
   "source": [
    "print df_analytic now"
   ]
  },
  {
   "cell_type": "code",
   "execution_count": null,
   "id": "classical-biology",
   "metadata": {},
   "outputs": [],
   "source": [
    "df_analytic2.select(col(\"row_id\"), col(\"job_title\"),\n",
    "                   col(\"avg_salary\"),col(\"min_salary\"), col(\"max_salary\")).show(truncate=False)"
   ]
  },
  {
   "cell_type": "markdown",
   "id": "hybrid-queensland",
   "metadata": {},
   "source": [
    "here you need to create df_exp_lvl with the biggest usd_salary(biggest_salary) for each experience_level(you need to save all fields like in entire dataframe)"
   ]
  },
  {
   "cell_type": "code",
   "execution_count": null,
   "id": "dental-wrist",
   "metadata": {},
   "outputs": [],
   "source": [
    "df_expe_lvl = df2\n",
    "feature_group = ['experience_level']\n",
    "data_max = df_expe_lvl.groupBy(feature_group).max(\"salary_in_usd\")\n",
    "data_max2=data_max.select(\"experience_level\",col(\"max(salary_in_usd)\").alias(\"biggest_salary\"))\n",
    "df_exp_lvl = df_expe_lvl.join(data_max2, feature_group).dropDuplicates([\"experience_level\"])"
   ]
  },
  {
   "cell_type": "markdown",
   "id": "innovative-hierarchy",
   "metadata": {},
   "source": [
    "print here df_exp_lvl"
   ]
  },
  {
   "cell_type": "code",
   "execution_count": null,
   "id": "standing-toilet",
   "metadata": {},
   "outputs": [],
   "source": [
    "df_exp_lvl.toPandas()"
   ]
  },
  {
   "cell_type": "markdown",
   "id": "hawaiian-mortgage",
   "metadata": {},
   "source": [
    "create df_best that consists from rows where salary of guy same as biggest salary for other people in his exp_lvl and choose only columns: id, experience_level, biggest_salary, employee_residence"
   ]
  },
  {
   "cell_type": "code",
   "execution_count": null,
   "id": "toxic-prompt",
   "metadata": {},
   "outputs": [],
   "source": [
    "feature_group2=['experience_level']\n",
    "data_maxy=df2.groupBy(feature_group2).max(\"salary_in_usd\")\n",
    "data_maxy2=data_maxy.select(\"experience_level\",col(\"max(salary_in_usd)\").alias(\"biggest_salary\"))\n",
    "df = df2.join(data_maxy2, feature_group2)\n",
    "df_best=df.select(\"id\", \"experience_level\", \"biggest_salary\", \"employee_residence\").filter(col(\"salary_in_usd\")==col(\"biggest_salary\"))"
   ]
  },
  {
   "cell_type": "markdown",
   "id": "complex-librarian",
   "metadata": {},
   "source": [
    "print df_best"
   ]
  },
  {
   "cell_type": "code",
   "execution_count": null,
   "id": "smart-texas",
   "metadata": {},
   "outputs": [],
   "source": [
    "df_best.toPandas()"
   ]
  },
  {
   "cell_type": "markdown",
   "id": "integral-brass",
   "metadata": {},
   "source": [
    "drop duplicates if exist by experience_level"
   ]
  },
  {
   "cell_type": "code",
   "execution_count": null,
   "id": "immune-marine",
   "metadata": {},
   "outputs": [],
   "source": [
    "df_best=df_best.dropDuplicates([\"experience_level\"])"
   ]
  },
  {
   "cell_type": "markdown",
   "id": "connected-credit",
   "metadata": {},
   "source": [
    "print df_best"
   ]
  },
  {
   "cell_type": "code",
   "execution_count": null,
   "id": "specified-wellington",
   "metadata": {},
   "outputs": [],
   "source": [
    "df_best.show()"
   ]
  },
  {
   "cell_type": "markdown",
   "id": "facial-plant",
   "metadata": {},
   "source": [
    "create df_new_best from df_best without id, and make the next: when exp_level = MI we want middle, when SE we want senior, else Null"
   ]
  },
  {
   "cell_type": "code",
   "execution_count": null,
   "id": "infinite-retail",
   "metadata": {},
   "outputs": [],
   "source": [
    "df_new=df_best.select(\"experience_level\",\"biggest_salary\",\"employee_residence\")\n",
    "df_new_best=df_new.withColumn(\"experience_level\", when(df_new.experience_level == \"MI\",\"middle\")\n",
    "                                 .when(df_new.experience_level == \"SE\",\"senior\")\n",
    "                                 .otherwise(\"Null\"))"
   ]
  },
  {
   "cell_type": "markdown",
   "id": "changing-fairy",
   "metadata": {},
   "source": [
    "print df_new_best"
   ]
  },
  {
   "cell_type": "code",
   "execution_count": null,
   "id": "endless-framework",
   "metadata": {},
   "outputs": [],
   "source": [
    "df_new_best.toPandas()"
   ]
  },
  {
   "cell_type": "markdown",
   "id": "mineral-status",
   "metadata": {},
   "source": [
    "write df_new_best like 1.csv and load then it to df_final"
   ]
  },
  {
   "cell_type": "code",
   "execution_count": null,
   "id": "baking-progress",
   "metadata": {
    "scrolled": true
   },
   "outputs": [],
   "source": [
    "df_new_best.write.options(header='True', delimiter=',') \\\n",
    " .csv(\"C:/Users/user/Downloads/1\")\n",
    "df_final = spark.read.options(header='True',inferSchema='True',delimiter=',') \\\n",
    ".csv(\"C:/Users/user/Downloads/1.csv\")"
   ]
  },
  {
   "cell_type": "markdown",
   "id": "vocal-shooting",
   "metadata": {},
   "source": [
    "print df_final"
   ]
  },
  {
   "cell_type": "code",
   "execution_count": null,
   "id": "expired-viewer",
   "metadata": {},
   "outputs": [],
   "source": [
    "df_final.show()"
   ]
  },
  {
   "cell_type": "markdown",
   "id": "nutritional-progress",
   "metadata": {},
   "source": [
    "filter df_final to delete experience_level where it Null, then join this table by biggest_salary(salary_in_usd) and employee_residence with entire df"
   ]
  },
  {
   "cell_type": "code",
   "execution_count": null,
   "id": "small-polymer",
   "metadata": {},
   "outputs": [],
   "source": [
    "df_final=df_final.filter(df_final.experience_level != \"Null\")\n",
    "df_final=df_final.join(df2, (df_final.biggest_salary ==  df2.salary_in_usd)&(df_final.employee_residence==df2.employee_residence))\n"
   ]
  },
  {
   "cell_type": "markdown",
   "id": "variable-twins",
   "metadata": {},
   "source": [
    "print df_final"
   ]
  },
  {
   "cell_type": "code",
   "execution_count": null,
   "id": "generic-block",
   "metadata": {},
   "outputs": [],
   "source": [
    "df_final.toPandas()"
   ]
  },
  {
   "cell_type": "markdown",
   "id": "variable-moore",
   "metadata": {},
   "source": [
    "last task is to save in variable and then print this variable of the biggest salary_in_usd from df_final"
   ]
  },
  {
   "cell_type": "code",
   "execution_count": null,
   "id": "individual-institution",
   "metadata": {},
   "outputs": [],
   "source": [
    "big_sel=df_final.select(max(\"biggest_salary\")).show()"
   ]
  },
  {
   "cell_type": "markdown",
   "id": "stopped-procedure",
   "metadata": {},
   "source": [
    "It is the end of PySpark basics. In other lessons you will learn optimizations technics and how to make distributed system"
   ]
  }
 ],
 "metadata": {
  "kernelspec": {
   "display_name": "Python 3 (ipykernel)",
   "language": "python",
   "name": "python3"
  },
  "language_info": {
   "codemirror_mode": {
    "name": "ipython",
    "version": 3
   },
   "file_extension": ".py",
   "mimetype": "text/x-python",
   "name": "python",
   "nbconvert_exporter": "python",
   "pygments_lexer": "ipython3",
   "version": "3.9.13"
  }
 },
 "nbformat": 4,
 "nbformat_minor": 5
}
